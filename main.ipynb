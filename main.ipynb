{
 "cells": [
  {
   "cell_type": "markdown",
   "id": "24b1037d-32b1-47b8-9f80-5e79d65fdd9c",
   "metadata": {},
   "source": []
  },
  {
   "cell_type": "markdown",
   "id": "ff42fed6-f2d7-442a-83b1-b5cd17095b00",
   "metadata": {},
   "source": []
  },
  {
   "cell_type": "code",
   "execution_count": 32,
   "id": "04432ee6-de16-4737-86a8-0c3a6bc4f530",
   "metadata": {},
   "outputs": [
    {
     "name": "stdout",
     "output_type": "stream",
     "text": [
      "Note: you may need to restart the kernel to use updated packages.\n"
     ]
    }
   ],
   "source": [
    "pip install -r requirements.txt -q"
   ]
  },
  {
   "cell_type": "code",
   "execution_count": 33,
   "id": "26b1a709-9d0b-470d-a694-51dadd27c6a8",
   "metadata": {},
   "outputs": [],
   "source": [
    "from langchain_openai import ChatOpenAI\n",
    "from langchain.agents.agent_types import AgentType\n",
    "from langchain_experimental.agents.agent_toolkits import create_pandas_dataframe_agent\n",
    "from langchain.prompts import(\n",
    "    ChatPromptTemplate,\n",
    "    PromptTemplate,\n",
    "    SystemMessagePromptTemplate,\n",
    "    AIMessagePromptTemplate,\n",
    "    HumanMessagePromptTemplate\n",
    ")\n",
    "from langchain.schema.messages import SystemMessage\n",
    "from langchain.memory import ConversationBufferMemory\n",
    "from langchain_experimental.agents.agent_toolkits.pandas.prompt import PREFIX\n",
    "import random\n",
    "import pandas as pandas\n",
    "import matplotlib.pyplot as matploylib\n",
    "import seaborn as seaborn\n",
    "seaborn.set_theme(context='notebook', style='darkgrid', palette='deep', font='sans-serif', font_scale=1, color_codes=True, rc=None)"
   ]
  },
  {
   "cell_type": "code",
   "execution_count": 34,
   "id": "54532bc7-1919-4659-b769-0d97af334404",
   "metadata": {},
   "outputs": [
    {
     "data": {
      "text/plain": [
       "False"
      ]
     },
     "execution_count": 34,
     "metadata": {},
     "output_type": "execute_result"
    }
   ],
   "source": [
    "import os\n",
    "from dotenv import load_dotenv, find_dotenv\n",
    "load_dotenv(find_dotenv(), override=True)"
   ]
  },
  {
   "cell_type": "markdown",
   "id": "e98841f9-b1b6-4222-9aa3-a1ad33108298",
   "metadata": {},
   "source": [
    "## Creating llm and prompts"
   ]
  },
  {
   "cell_type": "markdown",
   "id": "02881040-78d6-4efe-b61d-aba00f13113e",
   "metadata": {},
   "source": [
    "### Using OpenAI's gpt-4"
   ]
  },
  {
   "cell_type": "code",
   "execution_count": 35,
   "id": "0837d51d-be92-489d-b2e4-69bcb61ee978",
   "metadata": {},
   "outputs": [],
   "source": [
    "llm = ChatOpenAI(openai_api_key=\"", temperature=0, model_name=\"gpt-3.5-turbo-1106\")\n"
   ]
  },
  {
   "cell_type": "code",
   "execution_count": 36,
   "id": "f9018c4d-ff8d-4b09-bdee-601a33030d4e",
   "metadata": {},
   "outputs": [],
   "source": [
    "# System Message to set persona for detailed individual evaluations.\n",
    "system_message = \"\"\"Objective: As an expert in renewable energy, the green economy, and circular economy business opportunities, evaluate individual business ideas focusing on circular economy solutions. \n",
    "Assess the potential impact, viability, and alignment with circular economy principles, considering both the {problem} and {solution} provided. Do not make up or add anything to the {solution}.\n",
    "\n",
    "Important: Start all generations with the Sentiment and the Category as described further in this prompt.\n",
    "Important: If the provided information does not contain a specific business idea focusing on circular economy solutions terminate the evaluation and assign the sentiment: Not Applicable.\n",
    "\n",
    "Instructions:\n",
    "1. Evaluate each {problem} and {solution} pair based on the following six criteria:\n",
    "    (a) Circularity Potential: Assess the idea's effectiveness in promoting circularity, reducing waste, enhancing resource efficiency, or encouraging reuse and recycling.\n",
    "                IMPORTANT: If the solution does not promote directly circularity terminate the evaluation and assign the sentiment: Not Applicable. If the solution directly promotes circularity, continue to follow the remaining instructions provided in this prompt.\n",
    "    (b) Scalability: Evaluate the potential for the business model's broader adoption, replication, and impact across different contexts or regions.\n",
    "    (c) Innovation and Novelty: Determine the level of innovation, novelty, and disruptive potential introduced by the idea.\n",
    "    (d) Economic Viability: Analyze the economic prospects, revenue generation, profitability, and investment attractiveness of the proposed business opportunity.\n",
    "    (e) Social and Environmental Impact: Assess the idea's contributions to sustainability goals, environmental conservation, and social welfare.\n",
    "    (f) Feasibility and Implementation: Evaluate the technical feasibility, readiness for deployment, and regulatory compliance of the proposed business opportunity.\n",
    "    \n",
    "2. If all criterion were evaluated, provide scores for each criterion on a scale of 1 to 10, considering the alignment of the idea with circular economy principles and its overall potential. \n",
    "\n",
    "3. Final Evaluation: Provide a summary evaluation for the submitted idea, highlighting strengths, areas for improvement, and overall assessment. If a sentiment of Not Appicable was assigned, provide an explanation of why.\n",
    "\n",
    "4. Consolidate the scores assigned to each criterion to generate an overall assessment score on a scale of 1 to 60.\n",
    "\n",
    "5. Generate a sentiment using one word based on the following:\n",
    "    (a) Positive: if the consolidated score is greater than 30 out of 60\n",
    "    (b) Negative: if the consolidated score is equal to or less than 30 out of 60\n",
    "    (c) Not Applicable: the solution does not directly promote circular principles or if there is no specific business idea outlined in the solution\n",
    "    \n",
    "6. Generate a Category into which the idea falls based on the below:\n",
    "    (a) Design for Circularity: \n",
    "        (i) Focuses on designing products, services, and systems with circularity in mind.\n",
    "        (ii) Emphasizes durability, reparability, modularity, and recyclability to extend product lifecycles and minimize waste.\n",
    "\n",
    "    (b) Resource Efficiency and Optimization:\n",
    "        (i) Aims to maximize the use of resources, minimize waste generation, and optimize resource consumption across the value chain.\n",
    "        (ii) Includes practices such as waste reduction, energy efficiency, water conservation, and material optimization.\n",
    "\n",
    "    (c) Reuse and Repair:\n",
    "        (i) Encourages the reuse, refurbishment, and repair of products, components, and materials.\n",
    "        (ii) Promotes initiatives such as remanufacturing, refurbishing, repurposing, and extending product lifecycles through maintenance and repair services.\n",
    "\n",
    "    (d) Recycling and Material Recovery:\n",
    "        (i) Focuses on recycling, recovering, and reintegrating materials and components back into the production cycle.\n",
    "        (ii) Includes initiatives such as material recovery, recycling technologies, closed-loop systems, and sustainable waste management practices.\n",
    "\n",
    "    (e) Circular Business Models:\n",
    "        (i) Explores innovative business models that prioritize circularity, sustainability, and value creation.\n",
    "        (ii) Includes models such as product-as-a-service, sharing and collaborative consumption, leasing, subscription models, and circular supply chains.\n",
    "\n",
    "    (f) Sustainable Supply Chains:\n",
    "        (i) Emphasizes creating resilient, transparent, and sustainable supply chains that promote ethical sourcing, responsible production, and circularity.\n",
    "        (ii) Includes practices such as sustainable sourcing, responsible procurement, eco-friendly logistics, and supply chain optimization.\n",
    "\n",
    "    (g) Consumer Engagement and Behavior Change:\n",
    "        (i) Focuses on raising awareness, educating consumers, and promoting sustainable consumption and lifestyle choices.\n",
    "        (ii) Includes initiatives such as consumer awareness campaigns, eco-labeling, sustainable packaging, and promoting responsible consumption patterns.\n",
    "\n",
    "    (h) Policy and Regulatory Frameworks:\n",
    "        (i) Advocates for the development and implementation of supportive policies, regulations, incentives, and frameworks that facilitate the transition to a circular economy.\n",
    "        (ii) Includes initiatives such as extended producer responsibility (EPR), eco-design standards, waste management regulations, and circular economy policies at local, regional, and national levels.\n",
    "\n",
    "7. Identify the Industry in which the idea falls.\n",
    "\n",
    "8. Based on the Circularity Potential, Innovation and Novelty, and Economic Viability identify if ideas with a Positive sentiment are:\n",
    "    (a) Moonshot Ideas:\n",
    "        (i) Description: These are exceptional, visionary ideas that have the potential to revolutionize industries, create entirely new markets, and generate unprecedented levels of innovation and profitability. Moonshot ideas require groundbreaking technologies, significant investment, and a willingness to challenge conventional wisdom and boundaries. They represent the pinnacle of ambition and potential for transformative impact.\n",
    "        (ii) Examples: Pioneering breakthrough technologies such as quantum computing, developing sustainable energy solutions to replace fossil fuels entirely, or establishing commercial space exploration and colonization initiatives.\n",
    "\n",
    "    (b) Emerging Trends & Technologies:\n",
    "        (i) Description: This category includes ideas that capitalize on emerging trends, technologies, or societal shifts. While they may not reach the groundbreaking potential of moonshots, they still offer significant opportunities for growth, innovation, and profitability by leveraging new technologies, addressing evolving consumer needs, and tapping into emerging markets or industries.\n",
    "        (ii) Examples: Leveraging advancements in artificial intelligence (AI) for healthcare applications, developing innovative solutions for renewable energy storage, or creating platforms for decentralized finance (DeFi) and blockchain technologies.\n",
    "\n",
    "    (c) Niche & Specialized Markets:\n",
    "        (i) Description: This category encompasses ideas that target specific niche markets, specialized needs, or unique customer segments within broader industries. While they may not offer the same scale or transformative potential as moonshots or emerging trends, they can still provide lucrative opportunities by serving specific customer needs, leveraging specialized expertise, and delivering tailored products or services effectively.\n",
    "        (ii) Examples: Offering specialized consulting services for specific industries or sectors, developing niche products tailored to particular demographic groups or interests, or creating unique experiences or services for specialized communities or market segments.\n",
    "\n",
    "    (d) Other:\n",
    "        (i) Does not fall into one of the categories of Moonshot Ideas, Emerging Trends & Technologies, or Nicehe & Specialized Markets.\n",
    "\n",
    "9. Provide any recommendations for how the idea may be improved.\n",
    "              \n",
    "\"\"\""
   ]
  },
  {
   "cell_type": "markdown",
   "id": "f6b17c2e-15d0-4f30-90ac-0b4a410c2115",
   "metadata": {},
   "source": [
    "### Creating Prompt Template to be used with create_pandas_dataframe_agent"
   ]
  },
  {
   "cell_type": "markdown",
   "id": "62c5031c-eb79-456b-8ada-b9c379cec153",
   "metadata": {},
   "source": [
    "## Importing Data"
   ]
  },
  {
   "cell_type": "markdown",
   "id": "592778db-64ac-4386-b91c-c34c5eb95b09",
   "metadata": {},
   "source": [
    "### Initial Data Exploration"
   ]
  },
  {
   "cell_type": "code",
   "execution_count": 37,
   "id": "8f3eb139-76d3-4e3b-b1c0-752e05b66534",
   "metadata": {},
   "outputs": [
    {
     "name": "stdout",
     "output_type": "stream",
     "text": [
      "<class 'pandas.core.frame.DataFrame'>\n",
      "RangeIndex: 1300 entries, 0 to 1299\n",
      "Data columns (total 3 columns):\n",
      " #   Column    Non-Null Count  Dtype \n",
      "---  ------    --------------  ----- \n",
      " 0   id        1300 non-null   int64 \n",
      " 1   problem   1300 non-null   object\n",
      " 2   solution  1299 non-null   object\n",
      "dtypes: int64(1), object(2)\n",
      "memory usage: 30.6+ KB\n"
     ]
    }
   ],
   "source": [
    "df = pandas.read_csv('AI EarthHack Dataset.csv', encoding='latin1')\n",
    "df.info()"
   ]
  },
  {
   "cell_type": "code",
   "execution_count": 38,
   "id": "3881978b-aa77-46f0-a645-63832c1932d7",
   "metadata": {},
   "outputs": [
    {
     "data": {
      "text/html": [
       "<div>\n",
       "<style scoped>\n",
       "    .dataframe tbody tr th:only-of-type {\n",
       "        vertical-align: middle;\n",
       "    }\n",
       "\n",
       "    .dataframe tbody tr th {\n",
       "        vertical-align: top;\n",
       "    }\n",
       "\n",
       "    .dataframe thead th {\n",
       "        text-align: right;\n",
       "    }\n",
       "</style>\n",
       "<table border=\"1\" class=\"dataframe\">\n",
       "  <thead>\n",
       "    <tr style=\"text-align: right;\">\n",
       "      <th></th>\n",
       "      <th>id</th>\n",
       "      <th>problem</th>\n",
       "      <th>solution</th>\n",
       "    </tr>\n",
       "  </thead>\n",
       "  <tbody>\n",
       "    <tr>\n",
       "      <th>0</th>\n",
       "      <td>1</td>\n",
       "      <td>The construction industry is indubitably one o...</td>\n",
       "      <td>Herein, we propose an innovative approach to m...</td>\n",
       "    </tr>\n",
       "    <tr>\n",
       "      <th>1</th>\n",
       "      <td>2</td>\n",
       "      <td>I'm sure you, like me, are feeling the heat - ...</td>\n",
       "      <td>Imagine standing on a green hill, not a single...</td>\n",
       "    </tr>\n",
       "    <tr>\n",
       "      <th>2</th>\n",
       "      <td>3</td>\n",
       "      <td>The massive shift in student learning towards ...</td>\n",
       "      <td>Implement a \"\"Book Swap\"\" program within educa...</td>\n",
       "    </tr>\n",
       "    <tr>\n",
       "      <th>3</th>\n",
       "      <td>4</td>\n",
       "      <td>The fashion industry is one of the top contrib...</td>\n",
       "      <td>The proposed solution is a garment rental serv...</td>\n",
       "    </tr>\n",
       "    <tr>\n",
       "      <th>4</th>\n",
       "      <td>5</td>\n",
       "      <td>The majority of the materials used in producin...</td>\n",
       "      <td>An innovative concept would be a modular elect...</td>\n",
       "    </tr>\n",
       "  </tbody>\n",
       "</table>\n",
       "</div>"
      ],
      "text/plain": [
       "   id                                            problem  \\\n",
       "0   1  The construction industry is indubitably one o...   \n",
       "1   2  I'm sure you, like me, are feeling the heat - ...   \n",
       "2   3  The massive shift in student learning towards ...   \n",
       "3   4  The fashion industry is one of the top contrib...   \n",
       "4   5  The majority of the materials used in producin...   \n",
       "\n",
       "                                            solution  \n",
       "0  Herein, we propose an innovative approach to m...  \n",
       "1  Imagine standing on a green hill, not a single...  \n",
       "2  Implement a \"\"Book Swap\"\" program within educa...  \n",
       "3  The proposed solution is a garment rental serv...  \n",
       "4  An innovative concept would be a modular elect...  "
      ]
     },
     "execution_count": 38,
     "metadata": {},
     "output_type": "execute_result"
    }
   ],
   "source": [
    "df.head()"
   ]
  },
  {
   "cell_type": "code",
   "execution_count": 39,
   "id": "ee625e4b-0d56-436b-9302-81797fbd4796",
   "metadata": {},
   "outputs": [
    {
     "data": {
      "text/html": [
       "<div>\n",
       "<style scoped>\n",
       "    .dataframe tbody tr th:only-of-type {\n",
       "        vertical-align: middle;\n",
       "    }\n",
       "\n",
       "    .dataframe tbody tr th {\n",
       "        vertical-align: top;\n",
       "    }\n",
       "\n",
       "    .dataframe thead th {\n",
       "        text-align: right;\n",
       "    }\n",
       "</style>\n",
       "<table border=\"1\" class=\"dataframe\">\n",
       "  <thead>\n",
       "    <tr style=\"text-align: right;\">\n",
       "      <th></th>\n",
       "      <th>id</th>\n",
       "      <th>problem</th>\n",
       "      <th>solution</th>\n",
       "    </tr>\n",
       "  </thead>\n",
       "  <tbody>\n",
       "    <tr>\n",
       "      <th>1295</th>\n",
       "      <td>1296</td>\n",
       "      <td>The linear 'take, make, dispose' model of prod...</td>\n",
       "      <td>Addressing this problem, a two-pronged circula...</td>\n",
       "    </tr>\n",
       "    <tr>\n",
       "      <th>1296</th>\n",
       "      <td>1297</td>\n",
       "      <td>The conundrum we face is the improper disposal...</td>\n",
       "      <td>The proposed solution is a cutting-edge recycl...</td>\n",
       "    </tr>\n",
       "    <tr>\n",
       "      <th>1297</th>\n",
       "      <td>1298</td>\n",
       "      <td>This solution will help the vegetation</td>\n",
       "      <td>Use old tea bags as compost for soil</td>\n",
       "    </tr>\n",
       "    <tr>\n",
       "      <th>1298</th>\n",
       "      <td>1299</td>\n",
       "      <td>Accumulation and improper disposal of single-u...</td>\n",
       "      <td>My proposed solution is to implement an innova...</td>\n",
       "    </tr>\n",
       "    <tr>\n",
       "      <th>1299</th>\n",
       "      <td>1300</td>\n",
       "      <td>The excessive and wasteful resource consumptio...</td>\n",
       "      <td>Transformation to a sustainable, digital-focus...</td>\n",
       "    </tr>\n",
       "  </tbody>\n",
       "</table>\n",
       "</div>"
      ],
      "text/plain": [
       "        id                                            problem  \\\n",
       "1295  1296  The linear 'take, make, dispose' model of prod...   \n",
       "1296  1297  The conundrum we face is the improper disposal...   \n",
       "1297  1298             This solution will help the vegetation   \n",
       "1298  1299  Accumulation and improper disposal of single-u...   \n",
       "1299  1300  The excessive and wasteful resource consumptio...   \n",
       "\n",
       "                                               solution  \n",
       "1295  Addressing this problem, a two-pronged circula...  \n",
       "1296  The proposed solution is a cutting-edge recycl...  \n",
       "1297               Use old tea bags as compost for soil  \n",
       "1298  My proposed solution is to implement an innova...  \n",
       "1299  Transformation to a sustainable, digital-focus...  "
      ]
     },
     "execution_count": 39,
     "metadata": {},
     "output_type": "execute_result"
    }
   ],
   "source": [
    "df.tail()"
   ]
  },
  {
   "cell_type": "markdown",
   "id": "182fabb4-a9b9-4a0d-9e26-238212d80dfe",
   "metadata": {},
   "source": [
    "## Creating Agent with Memory"
   ]
  },
  {
   "cell_type": "markdown",
   "id": "871f426d-7922-49eb-8f0e-1825d61ed805",
   "metadata": {},
   "source": [
    "### Conversation Buffer Memory for recall of previous inferences and completions"
   ]
  },
  {
   "cell_type": "code",
   "execution_count": 40,
   "id": "b9e2ddc6-b1a8-4ac8-946e-5cbeeae0e80c",
   "metadata": {},
   "outputs": [],
   "source": [
    "memory = ConversationBufferMemory(memory_key=\"chat_history\")"
   ]
  },
  {
   "cell_type": "markdown",
   "id": "86828ba2-dda4-4604-bfe4-c5e7c28c529b",
   "metadata": {},
   "source": [
    "### Prefix for updating agent's default prompt template."
   ]
  },
  {
   "cell_type": "code",
   "execution_count": 41,
   "id": "e74afd37-21f9-434d-9ffb-06a357cdf41c",
   "metadata": {},
   "outputs": [],
   "source": [
    "agent_prefix =  \"\"\" You are working with a pandas dataframe in Python. The name of the dataframe is `df`.\n",
    "        Objective: As an expert in renewable energy, the green economy, and circular economy business opportunities, evaluate individual business ideas focusing on circular economy solutions.\n",
    "        Assess the potential impact, viability, and alignment with circular economy principles, considering both the problem and solution provided. Do not make up or add anything to the solution.\n",
    "        Important: Start all generations with the Sentiment and the Category as described further in this prompt.\n",
    "        Important: If the provided information does not contain a specific business idea focusing on circular economy solutions terminate the evaluation and assign the sentiment: Not Applicable.\n",
    "        \n",
    "        Instructions:\n",
    "        Important: Only provide evaluations if asked explicitly. If not asked for an evaluation, only answer the specific query.\n",
    "        Important: Pause for  seconds between each evaluation so as to avoid exceeding api rate limits.\n",
    "        \n",
    "        1. Evaluate each problem and solution pair based on the following six criteria:\n",
    "            (a) Circularity Potential: Assess the idea's effectiveness in promoting circularity, reducing waste, enhancing resource efficiency, or encouraging reuse and recycling.\n",
    "                IMPORTANT: If the solution does not promote directly circularity terminate the evaluation and assign the sentiment: Not Applicable. If the solution directly promotes circularity, continue to follow the remaining instructions provided in this prompt.\n",
    "            (b) Scalability: Evaluate the potential for the business model's broader adoption, replication, and impact across different contexts or regions.\n",
    "            (c) Innovation and Novelty: Determine the level of innovation, novelty, and disruptive potential introduced by the idea.\n",
    "            (d) Economic Viability: Analyze the economic prospects, revenue generation, profitability, and investment attractiveness of the proposed business opportunity.\n",
    "            (e) Social and Environmental Impact: Assess the idea's contributions to sustainability goals, environmental conservation, and social welfare.\n",
    "            (f) Feasibility and Implementation: Evaluate the technical feasibility, readiness for deployment, and regulatory compliance of the proposed business opportunity.\n",
    "            (g) If all criterion were evaluated, provide scores for each criterion on a scale of 1 to 10, considering the alignment of the idea with circular economy principles and its overall potential. \n",
    "\n",
    "        3. Assign Sentiment:\n",
    "            (a) Generate a sentiment using one word based on the following and append it to a new column in the dataframe called evaluations:\n",
    "                (i) Positive: if the consolidated score is greater than 30 out of 60\n",
    "                (ii) Negative: if the consolidated score is equal to or less than 30 out of 60\n",
    "                (iii) Not Applicable: the solution does not directly promote circular principles or if there is no specific business idea outlined in the solution\n",
    "\n",
    "        You should use the tools below to answer the question posed of you:\n",
    "\"\"\""
   ]
  },
  {
   "cell_type": "markdown",
   "id": "9cb27263-f330-4995-97a9-846d0552c74f",
   "metadata": {},
   "source": [
    "### Pandas DataFrame Agent Parameters"
   ]
  },
  {
   "cell_type": "code",
   "execution_count": 42,
   "id": "3de54ac5-5228-45f3-9d94-84b37b3a0c71",
   "metadata": {},
   "outputs": [
    {
     "name": "stderr",
     "output_type": "stream",
     "text": [
      "C:\\Users\\HP\\anaconda3\\lib\\site-packages\\langchain_experimental\\agents\\agent_toolkits\\pandas\\base.py:242: UserWarning: Received additional kwargs {'agent': <AgentType.CONVERSATIONAL_REACT_DESCRIPTION: 'conversational-react-description'>, 'memory': ConversationBufferMemory(memory_key='chat_history')} which are no longer supported.\n",
      "  warnings.warn(\n"
     ]
    }
   ],
   "source": [
    "agent = create_pandas_dataframe_agent(\n",
    "    llm,\n",
    "    df,\n",
    "    prefix = agent_prefix,\n",
    "    verbose=True,\n",
    "    agent=AgentType.CONVERSATIONAL_REACT_DESCRIPTION,\n",
    "    memory=memory,\n",
    "    max_iterations=4,\n",
    "    early_stopping_method=\"generate\",\n",
    ")"
   ]
  },
  {
   "cell_type": "code",
   "execution_count": 43,
   "id": "ace6801a-b9dc-49bb-b6d6-0b47bfaa1729",
   "metadata": {},
   "outputs": [],
   "source": [
    "#print(agent.agent.llm_chain.prompt.template)"
   ]
  },
  {
   "cell_type": "markdown",
   "id": "81edf2cd-bfb7-46b7-b2db-cd27066843f1",
   "metadata": {},
   "source": [
    "## Conducting Sentiment Analysis and Idea Evaluation"
   ]
  },
  {
   "cell_type": "markdown",
   "id": "f6822e23-ea84-4ab7-be08-a0c918127352",
   "metadata": {},
   "source": [
    "## Conducting sentiment analysis on all business ideas with Agent."
   ]
  },
  {
   "cell_type": "code",
   "execution_count": 44,
   "id": "43ef2804-02e1-4b43-a084-c828f6f23eae",
   "metadata": {},
   "outputs": [
    {
     "name": "stdout",
     "output_type": "stream",
     "text": [
      "\n",
      "\n",
      "\u001b[1m> Entering new AgentExecutor chain...\u001b[0m\n",
      "\u001b[32;1m\u001b[1;3mThought: Evaluate the first problem and solution pair based on the given criteria.\n",
      "Action: Evaluate the circularity potential, scalability, innovation and novelty, economic viability, social and environmental impact, and feasibility and implementation of the first problem and solution pair.\n",
      "Action Input:\n",
      "Circularity Potential: The solution promotes circularity by embracing recycling and reuse, reducing construction waste by up to 90% and decreasing construction time by 30-50%.\n",
      "Scalability: The modular construction approach is already being proven in markets around the globe, indicating its potential for scalability and real-world application.\n",
      "Innovation and Novelty: The idea of modular construction is innovative and novel, as it takes a significant stride towards a circular economy in the construction industry.\n",
      "Economic Viability: The reduction in construction time corresponds to substantial financial savings for businesses, making it economically viable.\n",
      "Social and Environmental Impact: The solution contributes to environmental conservation and sustainability by conserving resources and reducing waste.\n",
      "Feasibility and Implementation: The concept is technically feasible and ready for deployment, as it is already being proven in markets around the globe.\u001b[0mEvaluate the circularity potential, scalability, innovation and novelty, economic viability, social and environmental impact, and feasibility and implementation of the first problem and solution pair. is not a valid tool, try one of [python_repl_ast].\u001b[32;1m\u001b[1;3mI need to use the python_repl_ast tool to evaluate the circularity potential, scalability, innovation and novelty, economic viability, social and environmental impact, and feasibility and implementation of the first problem and solution pair.\n",
      "Action: python_repl_ast\n",
      "Action Input: circularity_potential = 9\u001b[0m\u001b[36;1m\u001b[1;3m\u001b[0m\u001b[32;1m\u001b[1;3mI need to continue evaluating the other criteria and calculate the consolidated score before assigning a sentiment.\n",
      "Action: python_repl_ast\n",
      "Action Input: scalability = 8\u001b[0m\u001b[36;1m\u001b[1;3m\u001b[0m\u001b[32;1m\u001b[1;3mI need to continue evaluating the other criteria and calculate the consolidated score before assigning a sentiment.\n",
      "Action: python_repl_ast\n",
      "Action Input: innovation_and_novelty = 9\u001b[0m\u001b[36;1m\u001b[1;3m\u001b[0m"
     ]
    },
    {
     "ename": "ValueError",
     "evalue": "Got unsupported early_stopping_method `generate`",
     "output_type": "error",
     "traceback": [
      "\u001b[1;31m---------------------------------------------------------------------------\u001b[0m",
      "\u001b[1;31mValueError\u001b[0m                                Traceback (most recent call last)",
      "Cell \u001b[1;32mIn[44], line 1\u001b[0m\n\u001b[1;32m----> 1\u001b[0m \u001b[43magent\u001b[49m\u001b[38;5;241;43m.\u001b[39;49m\u001b[43mrun\u001b[49m\u001b[43m(\u001b[49m\u001b[38;5;124;43m\"\u001b[39;49m\u001b[38;5;124;43mProvide a sentiment for each idea. Append the sentiment to the dataframe.\u001b[39;49m\u001b[38;5;124;43m\"\u001b[39;49m\u001b[43m)\u001b[49m\n",
      "File \u001b[1;32m~\\anaconda3\\lib\\site-packages\\langchain_core\\_api\\deprecation.py:145\u001b[0m, in \u001b[0;36mdeprecated.<locals>.deprecate.<locals>.warning_emitting_wrapper\u001b[1;34m(*args, **kwargs)\u001b[0m\n\u001b[0;32m    143\u001b[0m     warned \u001b[38;5;241m=\u001b[39m \u001b[38;5;28;01mTrue\u001b[39;00m\n\u001b[0;32m    144\u001b[0m     emit_warning()\n\u001b[1;32m--> 145\u001b[0m \u001b[38;5;28;01mreturn\u001b[39;00m wrapped(\u001b[38;5;241m*\u001b[39margs, \u001b[38;5;241m*\u001b[39m\u001b[38;5;241m*\u001b[39mkwargs)\n",
      "File \u001b[1;32m~\\anaconda3\\lib\\site-packages\\langchain\\chains\\base.py:545\u001b[0m, in \u001b[0;36mChain.run\u001b[1;34m(self, callbacks, tags, metadata, *args, **kwargs)\u001b[0m\n\u001b[0;32m    543\u001b[0m     \u001b[38;5;28;01mif\u001b[39;00m \u001b[38;5;28mlen\u001b[39m(args) \u001b[38;5;241m!=\u001b[39m \u001b[38;5;241m1\u001b[39m:\n\u001b[0;32m    544\u001b[0m         \u001b[38;5;28;01mraise\u001b[39;00m \u001b[38;5;167;01mValueError\u001b[39;00m(\u001b[38;5;124m\"\u001b[39m\u001b[38;5;124m`run` supports only one positional argument.\u001b[39m\u001b[38;5;124m\"\u001b[39m)\n\u001b[1;32m--> 545\u001b[0m     \u001b[38;5;28;01mreturn\u001b[39;00m \u001b[38;5;28;43mself\u001b[39;49m\u001b[43m(\u001b[49m\u001b[43margs\u001b[49m\u001b[43m[\u001b[49m\u001b[38;5;241;43m0\u001b[39;49m\u001b[43m]\u001b[49m\u001b[43m,\u001b[49m\u001b[43m \u001b[49m\u001b[43mcallbacks\u001b[49m\u001b[38;5;241;43m=\u001b[39;49m\u001b[43mcallbacks\u001b[49m\u001b[43m,\u001b[49m\u001b[43m \u001b[49m\u001b[43mtags\u001b[49m\u001b[38;5;241;43m=\u001b[39;49m\u001b[43mtags\u001b[49m\u001b[43m,\u001b[49m\u001b[43m \u001b[49m\u001b[43mmetadata\u001b[49m\u001b[38;5;241;43m=\u001b[39;49m\u001b[43mmetadata\u001b[49m\u001b[43m)\u001b[49m[\n\u001b[0;32m    546\u001b[0m         _output_key\n\u001b[0;32m    547\u001b[0m     ]\n\u001b[0;32m    549\u001b[0m \u001b[38;5;28;01mif\u001b[39;00m kwargs \u001b[38;5;129;01mand\u001b[39;00m \u001b[38;5;129;01mnot\u001b[39;00m args:\n\u001b[0;32m    550\u001b[0m     \u001b[38;5;28;01mreturn\u001b[39;00m \u001b[38;5;28mself\u001b[39m(kwargs, callbacks\u001b[38;5;241m=\u001b[39mcallbacks, tags\u001b[38;5;241m=\u001b[39mtags, metadata\u001b[38;5;241m=\u001b[39mmetadata)[\n\u001b[0;32m    551\u001b[0m         _output_key\n\u001b[0;32m    552\u001b[0m     ]\n",
      "File \u001b[1;32m~\\anaconda3\\lib\\site-packages\\langchain_core\\_api\\deprecation.py:145\u001b[0m, in \u001b[0;36mdeprecated.<locals>.deprecate.<locals>.warning_emitting_wrapper\u001b[1;34m(*args, **kwargs)\u001b[0m\n\u001b[0;32m    143\u001b[0m     warned \u001b[38;5;241m=\u001b[39m \u001b[38;5;28;01mTrue\u001b[39;00m\n\u001b[0;32m    144\u001b[0m     emit_warning()\n\u001b[1;32m--> 145\u001b[0m \u001b[38;5;28;01mreturn\u001b[39;00m wrapped(\u001b[38;5;241m*\u001b[39margs, \u001b[38;5;241m*\u001b[39m\u001b[38;5;241m*\u001b[39mkwargs)\n",
      "File \u001b[1;32m~\\anaconda3\\lib\\site-packages\\langchain\\chains\\base.py:378\u001b[0m, in \u001b[0;36mChain.__call__\u001b[1;34m(self, inputs, return_only_outputs, callbacks, tags, metadata, run_name, include_run_info)\u001b[0m\n\u001b[0;32m    346\u001b[0m \u001b[38;5;124;03m\"\"\"Execute the chain.\u001b[39;00m\n\u001b[0;32m    347\u001b[0m \n\u001b[0;32m    348\u001b[0m \u001b[38;5;124;03mArgs:\u001b[39;00m\n\u001b[1;32m   (...)\u001b[0m\n\u001b[0;32m    369\u001b[0m \u001b[38;5;124;03m        `Chain.output_keys`.\u001b[39;00m\n\u001b[0;32m    370\u001b[0m \u001b[38;5;124;03m\"\"\"\u001b[39;00m\n\u001b[0;32m    371\u001b[0m config \u001b[38;5;241m=\u001b[39m {\n\u001b[0;32m    372\u001b[0m     \u001b[38;5;124m\"\u001b[39m\u001b[38;5;124mcallbacks\u001b[39m\u001b[38;5;124m\"\u001b[39m: callbacks,\n\u001b[0;32m    373\u001b[0m     \u001b[38;5;124m\"\u001b[39m\u001b[38;5;124mtags\u001b[39m\u001b[38;5;124m\"\u001b[39m: tags,\n\u001b[0;32m    374\u001b[0m     \u001b[38;5;124m\"\u001b[39m\u001b[38;5;124mmetadata\u001b[39m\u001b[38;5;124m\"\u001b[39m: metadata,\n\u001b[0;32m    375\u001b[0m     \u001b[38;5;124m\"\u001b[39m\u001b[38;5;124mrun_name\u001b[39m\u001b[38;5;124m\"\u001b[39m: run_name,\n\u001b[0;32m    376\u001b[0m }\n\u001b[1;32m--> 378\u001b[0m \u001b[38;5;28;01mreturn\u001b[39;00m \u001b[38;5;28;43mself\u001b[39;49m\u001b[38;5;241;43m.\u001b[39;49m\u001b[43minvoke\u001b[49m\u001b[43m(\u001b[49m\n\u001b[0;32m    379\u001b[0m \u001b[43m    \u001b[49m\u001b[43minputs\u001b[49m\u001b[43m,\u001b[49m\n\u001b[0;32m    380\u001b[0m \u001b[43m    \u001b[49m\u001b[43mcast\u001b[49m\u001b[43m(\u001b[49m\u001b[43mRunnableConfig\u001b[49m\u001b[43m,\u001b[49m\u001b[43m \u001b[49m\u001b[43m{\u001b[49m\u001b[43mk\u001b[49m\u001b[43m:\u001b[49m\u001b[43m \u001b[49m\u001b[43mv\u001b[49m\u001b[43m \u001b[49m\u001b[38;5;28;43;01mfor\u001b[39;49;00m\u001b[43m \u001b[49m\u001b[43mk\u001b[49m\u001b[43m,\u001b[49m\u001b[43m \u001b[49m\u001b[43mv\u001b[49m\u001b[43m \u001b[49m\u001b[38;5;129;43;01min\u001b[39;49;00m\u001b[43m \u001b[49m\u001b[43mconfig\u001b[49m\u001b[38;5;241;43m.\u001b[39;49m\u001b[43mitems\u001b[49m\u001b[43m(\u001b[49m\u001b[43m)\u001b[49m\u001b[43m \u001b[49m\u001b[38;5;28;43;01mif\u001b[39;49;00m\u001b[43m \u001b[49m\u001b[43mv\u001b[49m\u001b[43m \u001b[49m\u001b[38;5;129;43;01mis\u001b[39;49;00m\u001b[43m \u001b[49m\u001b[38;5;129;43;01mnot\u001b[39;49;00m\u001b[43m \u001b[49m\u001b[38;5;28;43;01mNone\u001b[39;49;00m\u001b[43m}\u001b[49m\u001b[43m)\u001b[49m\u001b[43m,\u001b[49m\n\u001b[0;32m    381\u001b[0m \u001b[43m    \u001b[49m\u001b[43mreturn_only_outputs\u001b[49m\u001b[38;5;241;43m=\u001b[39;49m\u001b[43mreturn_only_outputs\u001b[49m\u001b[43m,\u001b[49m\n\u001b[0;32m    382\u001b[0m \u001b[43m    \u001b[49m\u001b[43minclude_run_info\u001b[49m\u001b[38;5;241;43m=\u001b[39;49m\u001b[43minclude_run_info\u001b[49m\u001b[43m,\u001b[49m\n\u001b[0;32m    383\u001b[0m \u001b[43m\u001b[49m\u001b[43m)\u001b[49m\n",
      "File \u001b[1;32m~\\anaconda3\\lib\\site-packages\\langchain\\chains\\base.py:163\u001b[0m, in \u001b[0;36mChain.invoke\u001b[1;34m(self, input, config, **kwargs)\u001b[0m\n\u001b[0;32m    161\u001b[0m \u001b[38;5;28;01mexcept\u001b[39;00m \u001b[38;5;167;01mBaseException\u001b[39;00m \u001b[38;5;28;01mas\u001b[39;00m e:\n\u001b[0;32m    162\u001b[0m     run_manager\u001b[38;5;241m.\u001b[39mon_chain_error(e)\n\u001b[1;32m--> 163\u001b[0m     \u001b[38;5;28;01mraise\u001b[39;00m e\n\u001b[0;32m    164\u001b[0m run_manager\u001b[38;5;241m.\u001b[39mon_chain_end(outputs)\n\u001b[0;32m    166\u001b[0m \u001b[38;5;28;01mif\u001b[39;00m include_run_info:\n",
      "File \u001b[1;32m~\\anaconda3\\lib\\site-packages\\langchain\\chains\\base.py:153\u001b[0m, in \u001b[0;36mChain.invoke\u001b[1;34m(self, input, config, **kwargs)\u001b[0m\n\u001b[0;32m    150\u001b[0m \u001b[38;5;28;01mtry\u001b[39;00m:\n\u001b[0;32m    151\u001b[0m     \u001b[38;5;28mself\u001b[39m\u001b[38;5;241m.\u001b[39m_validate_inputs(inputs)\n\u001b[0;32m    152\u001b[0m     outputs \u001b[38;5;241m=\u001b[39m (\n\u001b[1;32m--> 153\u001b[0m         \u001b[38;5;28;43mself\u001b[39;49m\u001b[38;5;241;43m.\u001b[39;49m\u001b[43m_call\u001b[49m\u001b[43m(\u001b[49m\u001b[43minputs\u001b[49m\u001b[43m,\u001b[49m\u001b[43m \u001b[49m\u001b[43mrun_manager\u001b[49m\u001b[38;5;241;43m=\u001b[39;49m\u001b[43mrun_manager\u001b[49m\u001b[43m)\u001b[49m\n\u001b[0;32m    154\u001b[0m         \u001b[38;5;28;01mif\u001b[39;00m new_arg_supported\n\u001b[0;32m    155\u001b[0m         \u001b[38;5;28;01melse\u001b[39;00m \u001b[38;5;28mself\u001b[39m\u001b[38;5;241m.\u001b[39m_call(inputs)\n\u001b[0;32m    156\u001b[0m     )\n\u001b[0;32m    158\u001b[0m     final_outputs: Dict[\u001b[38;5;28mstr\u001b[39m, Any] \u001b[38;5;241m=\u001b[39m \u001b[38;5;28mself\u001b[39m\u001b[38;5;241m.\u001b[39mprep_outputs(\n\u001b[0;32m    159\u001b[0m         inputs, outputs, return_only_outputs\n\u001b[0;32m    160\u001b[0m     )\n\u001b[0;32m    161\u001b[0m \u001b[38;5;28;01mexcept\u001b[39;00m \u001b[38;5;167;01mBaseException\u001b[39;00m \u001b[38;5;28;01mas\u001b[39;00m e:\n",
      "File \u001b[1;32m~\\anaconda3\\lib\\site-packages\\langchain\\agents\\agent.py:1455\u001b[0m, in \u001b[0;36mAgentExecutor._call\u001b[1;34m(self, inputs, run_manager)\u001b[0m\n\u001b[0;32m   1453\u001b[0m     iterations \u001b[38;5;241m+\u001b[39m\u001b[38;5;241m=\u001b[39m \u001b[38;5;241m1\u001b[39m\n\u001b[0;32m   1454\u001b[0m     time_elapsed \u001b[38;5;241m=\u001b[39m time\u001b[38;5;241m.\u001b[39mtime() \u001b[38;5;241m-\u001b[39m start_time\n\u001b[1;32m-> 1455\u001b[0m output \u001b[38;5;241m=\u001b[39m \u001b[38;5;28mself\u001b[39m\u001b[38;5;241m.\u001b[39magent\u001b[38;5;241m.\u001b[39mreturn_stopped_response(\n\u001b[0;32m   1456\u001b[0m     \u001b[38;5;28mself\u001b[39m\u001b[38;5;241m.\u001b[39mearly_stopping_method, intermediate_steps, \u001b[38;5;241m*\u001b[39m\u001b[38;5;241m*\u001b[39minputs\n\u001b[0;32m   1457\u001b[0m )\n\u001b[0;32m   1458\u001b[0m \u001b[38;5;28;01mreturn\u001b[39;00m \u001b[38;5;28mself\u001b[39m\u001b[38;5;241m.\u001b[39m_return(output, intermediate_steps, run_manager\u001b[38;5;241m=\u001b[39mrun_manager)\n",
      "File \u001b[1;32m~\\anaconda3\\lib\\site-packages\\langchain\\agents\\agent.py:127\u001b[0m, in \u001b[0;36mBaseSingleActionAgent.return_stopped_response\u001b[1;34m(self, early_stopping_method, intermediate_steps, **kwargs)\u001b[0m\n\u001b[0;32m    123\u001b[0m     \u001b[38;5;28;01mreturn\u001b[39;00m AgentFinish(\n\u001b[0;32m    124\u001b[0m         {\u001b[38;5;124m\"\u001b[39m\u001b[38;5;124moutput\u001b[39m\u001b[38;5;124m\"\u001b[39m: \u001b[38;5;124m\"\u001b[39m\u001b[38;5;124mAgent stopped due to iteration limit or time limit.\u001b[39m\u001b[38;5;124m\"\u001b[39m}, \u001b[38;5;124m\"\u001b[39m\u001b[38;5;124m\"\u001b[39m\n\u001b[0;32m    125\u001b[0m     )\n\u001b[0;32m    126\u001b[0m \u001b[38;5;28;01melse\u001b[39;00m:\n\u001b[1;32m--> 127\u001b[0m     \u001b[38;5;28;01mraise\u001b[39;00m \u001b[38;5;167;01mValueError\u001b[39;00m(\n\u001b[0;32m    128\u001b[0m         \u001b[38;5;124mf\u001b[39m\u001b[38;5;124m\"\u001b[39m\u001b[38;5;124mGot unsupported early_stopping_method `\u001b[39m\u001b[38;5;132;01m{\u001b[39;00mearly_stopping_method\u001b[38;5;132;01m}\u001b[39;00m\u001b[38;5;124m`\u001b[39m\u001b[38;5;124m\"\u001b[39m\n\u001b[0;32m    129\u001b[0m     )\n",
      "\u001b[1;31mValueError\u001b[0m: Got unsupported early_stopping_method `generate`"
     ]
    }
   ],
   "source": [
    "agent.run(\"Provide a sentiment for each idea. Append the sentiment to the dataframe.\")"
   ]
  },
  {
   "cell_type": "markdown",
   "id": "7fe153e8-adcc-488c-86d0-7245660fd0fc",
   "metadata": {},
   "source": [
    "### Updated Dataframe with sentiment from evaluations."
   ]
  },
  {
   "cell_type": "code",
   "execution_count": 45,
   "id": "6a320b9e-a15f-4573-ac9e-ad0a94813917",
   "metadata": {},
   "outputs": [
    {
     "data": {
      "text/html": [
       "<div>\n",
       "<style scoped>\n",
       "    .dataframe tbody tr th:only-of-type {\n",
       "        vertical-align: middle;\n",
       "    }\n",
       "\n",
       "    .dataframe tbody tr th {\n",
       "        vertical-align: top;\n",
       "    }\n",
       "\n",
       "    .dataframe thead th {\n",
       "        text-align: right;\n",
       "    }\n",
       "</style>\n",
       "<table border=\"1\" class=\"dataframe\">\n",
       "  <thead>\n",
       "    <tr style=\"text-align: right;\">\n",
       "      <th></th>\n",
       "      <th>id</th>\n",
       "      <th>problem</th>\n",
       "      <th>solution</th>\n",
       "    </tr>\n",
       "  </thead>\n",
       "  <tbody>\n",
       "    <tr>\n",
       "      <th>0</th>\n",
       "      <td>1</td>\n",
       "      <td>The construction industry is indubitably one o...</td>\n",
       "      <td>Herein, we propose an innovative approach to m...</td>\n",
       "    </tr>\n",
       "    <tr>\n",
       "      <th>1</th>\n",
       "      <td>2</td>\n",
       "      <td>I'm sure you, like me, are feeling the heat - ...</td>\n",
       "      <td>Imagine standing on a green hill, not a single...</td>\n",
       "    </tr>\n",
       "    <tr>\n",
       "      <th>2</th>\n",
       "      <td>3</td>\n",
       "      <td>The massive shift in student learning towards ...</td>\n",
       "      <td>Implement a \"\"Book Swap\"\" program within educa...</td>\n",
       "    </tr>\n",
       "    <tr>\n",
       "      <th>3</th>\n",
       "      <td>4</td>\n",
       "      <td>The fashion industry is one of the top contrib...</td>\n",
       "      <td>The proposed solution is a garment rental serv...</td>\n",
       "    </tr>\n",
       "    <tr>\n",
       "      <th>4</th>\n",
       "      <td>5</td>\n",
       "      <td>The majority of the materials used in producin...</td>\n",
       "      <td>An innovative concept would be a modular elect...</td>\n",
       "    </tr>\n",
       "    <tr>\n",
       "      <th>...</th>\n",
       "      <td>...</td>\n",
       "      <td>...</td>\n",
       "      <td>...</td>\n",
       "    </tr>\n",
       "    <tr>\n",
       "      <th>1295</th>\n",
       "      <td>1296</td>\n",
       "      <td>The linear 'take, make, dispose' model of prod...</td>\n",
       "      <td>Addressing this problem, a two-pronged circula...</td>\n",
       "    </tr>\n",
       "    <tr>\n",
       "      <th>1296</th>\n",
       "      <td>1297</td>\n",
       "      <td>The conundrum we face is the improper disposal...</td>\n",
       "      <td>The proposed solution is a cutting-edge recycl...</td>\n",
       "    </tr>\n",
       "    <tr>\n",
       "      <th>1297</th>\n",
       "      <td>1298</td>\n",
       "      <td>This solution will help the vegetation</td>\n",
       "      <td>Use old tea bags as compost for soil</td>\n",
       "    </tr>\n",
       "    <tr>\n",
       "      <th>1298</th>\n",
       "      <td>1299</td>\n",
       "      <td>Accumulation and improper disposal of single-u...</td>\n",
       "      <td>My proposed solution is to implement an innova...</td>\n",
       "    </tr>\n",
       "    <tr>\n",
       "      <th>1299</th>\n",
       "      <td>1300</td>\n",
       "      <td>The excessive and wasteful resource consumptio...</td>\n",
       "      <td>Transformation to a sustainable, digital-focus...</td>\n",
       "    </tr>\n",
       "  </tbody>\n",
       "</table>\n",
       "<p>1300 rows × 3 columns</p>\n",
       "</div>"
      ],
      "text/plain": [
       "        id                                            problem  \\\n",
       "0        1  The construction industry is indubitably one o...   \n",
       "1        2  I'm sure you, like me, are feeling the heat - ...   \n",
       "2        3  The massive shift in student learning towards ...   \n",
       "3        4  The fashion industry is one of the top contrib...   \n",
       "4        5  The majority of the materials used in producin...   \n",
       "...    ...                                                ...   \n",
       "1295  1296  The linear 'take, make, dispose' model of prod...   \n",
       "1296  1297  The conundrum we face is the improper disposal...   \n",
       "1297  1298             This solution will help the vegetation   \n",
       "1298  1299  Accumulation and improper disposal of single-u...   \n",
       "1299  1300  The excessive and wasteful resource consumptio...   \n",
       "\n",
       "                                               solution  \n",
       "0     Herein, we propose an innovative approach to m...  \n",
       "1     Imagine standing on a green hill, not a single...  \n",
       "2     Implement a \"\"Book Swap\"\" program within educa...  \n",
       "3     The proposed solution is a garment rental serv...  \n",
       "4     An innovative concept would be a modular elect...  \n",
       "...                                                 ...  \n",
       "1295  Addressing this problem, a two-pronged circula...  \n",
       "1296  The proposed solution is a cutting-edge recycl...  \n",
       "1297               Use old tea bags as compost for soil  \n",
       "1298  My proposed solution is to implement an innova...  \n",
       "1299  Transformation to a sustainable, digital-focus...  \n",
       "\n",
       "[1300 rows x 3 columns]"
      ]
     },
     "execution_count": 45,
     "metadata": {},
     "output_type": "execute_result"
    }
   ],
   "source": [
    "df"
   ]
  },
  {
   "cell_type": "markdown",
   "id": "0cd2e27e-2e08-4c37-8825-8d988655cde8",
   "metadata": {},
   "source": [
    "### Creating Evaluation Report on individual problem-solution pair."
   ]
  },
  {
   "cell_type": "code",
   "execution_count": 48,
   "id": "90837594-478c-4ddd-94ac-8d6648449b53",
   "metadata": {},
   "outputs": [
    {
     "name": "stdout",
     "output_type": "stream",
     "text": [
      "Sentiment: Positive\n",
      "Category\n",
      "Score: 1\n"
     ]
    }
   ],
   "source": [
    "import pandas as pd\n",
    "import random\n",
    "import re\n",
    "\n",
    "# Assuming df is already defined\n",
    "random_row = df.sample(n=1)  # Selecting a random row from the DataFrame\n",
    "\n",
    "# Extracting problem and solution from the random row\n",
    "random_problem = random_row['problem'].iloc[0]\n",
    "random_solution = random_row['solution'].iloc[0]\n",
    "\n",
    "# Creating the prompt using the randomly selected problem and solution\n",
    "system_message_prompt = SystemMessagePromptTemplate.from_template(system_message)\n",
    "chat_prompt = ChatPromptTemplate.from_messages([system_message_prompt])\n",
    "prompt = chat_prompt.format_prompt(\n",
    "        problem=random_problem,\n",
    "        solution=random_solution\n",
    "    ).to_messages()\n",
    "\n",
    "# Evaluating the prompt\n",
    "evaluation = llm(prompt)\n",
    "\n",
    "# Extracting sentiment\n",
    "sentiment = evaluation.content.split(':')[1].strip()\n",
    "\n",
    "# Printing sentiment\n",
    "print(\"Sentiment:\", sentiment)\n",
    "\n",
    "# If sentiment is not \"Not Applicable\", extracting and printing the score\n",
    "if sentiment != \"Not Applicable\":\n",
    "    # Extracting numeric part of the score using regular expression\n",
    "    score_match = re.search(r'\\d+', evaluation.content)\n",
    "    if score_match:\n",
    "        score = int(score_match.group())\n",
    "        print(\"Score:\", score)\n",
    "    else:\n",
    "        print(\"Score not found\")\n"
   ]
  },
  {
   "cell_type": "code",
   "execution_count": 49,
   "id": "c286c142-fe16-4c15-a2c6-2027bebd9e92",
   "metadata": {},
   "outputs": [
    {
     "name": "stdout",
     "output_type": "stream",
     "text": [
      "Sentiment: Positive\n",
      "Category: Circular Business Models\n",
      "Industry: Fashion and Apparel\n",
      "\n",
      "1. Circularity Potential: The \"Fashion Rental and Reselling\" business model directly promotes circularity by encouraging the reuse and reselling of clothes, thereby reducing clothing waste and extending the lifecycle of garments. It effectively addresses the disposable nature of the fast fashion industry and promotes a more sustainable approach to clothing consumption.\n",
      "   \n",
      "2. Scalability: The business model has high scalability potential as it can be adopted by both large brands and smaller businesses. As more companies adopt this approach, it can lead to a substantial shift in consumer behavior, promoting a more circular and sustainable fashion industry.\n",
      "\n",
      "3. Innovation and Novelty: The idea introduces a novel approach to addressing the environmental impact of the fashion industry by focusing on rental and reselling, which is a disruptive shift from the traditional use-and-discard culture of fast fashion.\n",
      "\n",
      "4. Economic Viability: The business model offers a steady stream of income through subscription fees or rental charges, making it economically viable. It also provides an opportunity for brands to attract customers who can't afford high-quality clothing by offering them the chance to rent or buy used clothes at lower prices.\n",
      "\n",
      "5. Social and Environmental Impact: The idea significantly contributes to sustainability goals by reducing clothing waste, minimizing the number of clothes that end up in landfills, and promoting a more mindful and sustainable approach to clothing consumption.\n",
      "\n",
      "6. Feasibility and Implementation: The technical feasibility of the business model is high, and it aligns with the growing consumer demand for sustainable and circular fashion practices.\n",
      "\n",
      "Overall, the \"Fashion Rental and Reselling\" business model demonstrates strong potential in promoting circular economy principles, with high scalability, innovation, economic viability, and significant social and environmental impact.\n",
      "\n",
      "Consolidated Scores:\n",
      "(a) Circularity Potential: 10\n",
      "(b) Scalability: 9\n",
      "(c) Innovation and Novelty: 9\n",
      "(d) Economic Viability: 9\n",
      "(e) Social and Environmental Impact: 10\n",
      "(f) Feasibility and Implementation: 9\n",
      "\n",
      "Overall Assessment Score: 56 out of 60\n",
      "\n",
      "Moonshot Ideas: This idea falls into the category of Moonshot Ideas due to its potential to revolutionize the fashion industry, create new markets, and generate unprecedented levels of innovation and profitability.\n",
      "\n",
      "Recommendation: To further improve the idea, it would be beneficial to explore partnerships with sustainable material suppliers and invest in marketing efforts to raise awareness about the environmental benefits of the rental and reselling model. Additionally, integrating technology for virtual try-on experiences and efficient logistics for rental returns could enhance the customer experience.\n"
     ]
    }
   ],
   "source": [
    "evaluation = llm(prompt)\n",
    "print(evaluation.content)"
   ]
  },
  {
   "cell_type": "code",
   "execution_count": null,
   "id": "5e52654a",
   "metadata": {},
   "outputs": [],
   "source": []
  }
 ],
 "metadata": {
  "kernelspec": {
   "display_name": "Python 3 (ipykernel)",
   "language": "python",
   "name": "python3"
  },
  "language_info": {
   "codemirror_mode": {
    "name": "ipython",
    "version": 3
   },
   "file_extension": ".py",
   "mimetype": "text/x-python",
   "name": "python",
   "nbconvert_exporter": "python",
   "pygments_lexer": "ipython3",
   "version": "3.10.9"
  }
 },
 "nbformat": 4,
 "nbformat_minor": 5
}
